{
  "nbformat": 4,
  "nbformat_minor": 0,
  "metadata": {
    "colab": {
      "provenance": [],
      "toc_visible": true
    },
    "kernelspec": {
      "name": "python3",
      "display_name": "Python 3"
    },
    "language_info": {
      "name": "python"
    }
  },
  "cells": [
    {
      "cell_type": "markdown",
      "source": [
        "CS6140 Final Project\n",
        "# Recognizing Handwritten Digits Utilizing Computer Vision Approach\n",
        "\n",
        "The problem revolves around building an image classification model to recognize handwritten\n",
        "digits, a common task in computer vision. The dataset consists of images of handwritten digits, and the\n",
        "goal is to classify these images into one of 10 digit categories (0-9). This task involves extracting\n",
        "meaningful features from the images and building a model to generalize well to unseen data."
      ],
      "metadata": {
        "id": "JZ78QkO6A2uM"
      }
    },
    {
      "cell_type": "markdown",
      "source": [],
      "metadata": {
        "id": "veOWi_j4BQVn"
      }
    },
    {
      "cell_type": "code",
      "source": [
        "import pandas as pd\n",
        "import numpy as np\n",
        "import matplotlib.pyplot as plt\n",
        "import seaborn as sns\n",
        "import torch\n",
        "import torch.nn as nn\n",
        "import torch.optim as optim\n",
        "import torch.nn.functional as F\n",
        "from torch.utils.data import DataLoader, Dataset, random_split\n",
        "from torch.optim.lr_scheduler import ReduceLROnPlateau\n",
        "from sklearn.model_selection import train_test_split\n",
        "from sklearn.metrics import confusion_matrix\n",
        "from torchvision import transforms\n",
        "\n",
        "# Set random seed for reproducibility\n",
        "np.random.seed(2)\n",
        "torch.manual_seed(2)"
      ],
      "metadata": {
        "id": "yWC_huPkAy1e",
        "colab": {
          "base_uri": "https://localhost:8080/"
        },
        "outputId": "04b5b29b-7000-459a-b61c-82921109786b"
      },
      "execution_count": null,
      "outputs": [
        {
          "output_type": "execute_result",
          "data": {
            "text/plain": [
              "<torch._C.Generator at 0x7ba0dac870b0>"
            ]
          },
          "metadata": {},
          "execution_count": 67
        }
      ]
    },
    {
      "cell_type": "markdown",
      "source": [
        "# Data Preparation"
      ],
      "metadata": {
        "id": "IR_DvHNiCIV3"
      }
    },
    {
      "cell_type": "markdown",
      "source": [
        "### Load the data"
      ],
      "metadata": {
        "id": "UKVaakPlDESY"
      }
    },
    {
      "cell_type": "code",
      "execution_count": null,
      "metadata": {
        "id": "Z12eq-_4juuS"
      },
      "outputs": [],
      "source": [
        "# Load the data\n",
        "train = pd.read_csv(\"./train.csv\")"
      ]
    },
    {
      "cell_type": "code",
      "source": [
        "# Prepare labels\n",
        "Y_train = train[\"label\"]\n",
        "\n",
        "# Drop 'label' column\n",
        "X_train = train.drop(labels=[\"label\"], axis=1)\n",
        "# del train  # Free some space"
      ],
      "metadata": {
        "id": "DvWY2FJ1JH6w"
      },
      "execution_count": null,
      "outputs": []
    },
    {
      "cell_type": "markdown",
      "source": [
        "### Label Distribution Analysis\n",
        "Analyze the distribution of labels in the MNIST handwritten digit dataset, specifically the training labels (Y_train). By using Y_train.value_counts(), it counts the number of occurrences for each digit (0 through 9). The output shows that each digit has an approximately equal number of samples, which means the dataset is balanced."
      ],
      "metadata": {
        "id": "WhHjy6FLDOSv"
      }
    },
    {
      "cell_type": "code",
      "source": [
        "# Visualize the label distribution\n",
        "\n",
        "# print(Y_train.value_counts())\n",
        "\n",
        "# Y_train.value_counts().sort_index().plot(kind='bar', color='skyblue')\n",
        "# plt.title(\"Distribution of Labels\")\n",
        "# plt.xlabel(\"Label\")\n",
        "# plt.ylabel(\"Count\")\n",
        "# plt.show()"
      ],
      "metadata": {
        "id": "eDbtSGJ4IZvz"
      },
      "execution_count": null,
      "outputs": []
    },
    {
      "cell_type": "markdown",
      "source": [
        "### One-Hot Encoding\n",
        "The labels from the MNIST dataset, which represent digits (0 to 9), are first converted into a tensor format using PyTorch's torch.from_numpy method. Each label is then transformed into a one-hot encoded vector using torch.nn.functional.one_hot, with the num_classes parameter set to 10. For example, the label 2 is represented as [0,0,1,0,0,0,0,0,0,0], where the position of 1 corresponds to the digit value."
      ],
      "metadata": {
        "id": "d37KC16zENeP"
      }
    },
    {
      "cell_type": "code",
      "source": [
        "# Encode labels to one hot vectors (ex : 2 -> [0,0,1,0,0,0,0,0,0,0])\n",
        "Y_train_tensor = torch.from_numpy(Y_train.values).long()\n",
        "Y_train_one_hot = torch.nn.functional.one_hot(Y_train_tensor, num_classes=10)"
      ],
      "metadata": {
        "id": "FsI-zdIpN_U_"
      },
      "execution_count": null,
      "outputs": []
    },
    {
      "cell_type": "markdown",
      "source": [
        "### Normalization"
      ],
      "metadata": {
        "id": "WwQihKzHUjGg"
      }
    },
    {
      "cell_type": "code",
      "source": [
        "# Normalize the data and reshape for PyTorch\n",
        "X_train = X_train / 255.0"
      ],
      "metadata": {
        "id": "x5JqwS7kUxNK"
      },
      "execution_count": null,
      "outputs": []
    },
    {
      "cell_type": "markdown",
      "source": [
        "### Reshaping"
      ],
      "metadata": {
        "id": "J0CIAKQNUz7j"
      }
    },
    {
      "cell_type": "code",
      "source": [
        "# Reshape image in 3 dimensions (height = 28px, width = 28px, channel = 1)\n",
        "X_train_reshape = X_train.values.reshape(-1, 28, 28, 1)\n",
        "\n",
        "plt.imshow(X_train_reshape[10][:,:,0])\n",
        "print(Y_train_one_hot[10])"
      ],
      "metadata": {
        "id": "JEtgqRCuE_4C",
        "colab": {
          "base_uri": "https://localhost:8080/",
          "height": 447
        },
        "outputId": "b6afb77f-1276-4a4d-9539-baabc25a98b7"
      },
      "execution_count": null,
      "outputs": [
        {
          "output_type": "stream",
          "name": "stdout",
          "text": [
            "tensor([0, 0, 0, 0, 0, 0, 0, 0, 1, 0])\n"
          ]
        },
        {
          "output_type": "display_data",
          "data": {
            "text/plain": [
              "<Figure size 640x480 with 1 Axes>"
            ],
            "image/png": "[encoded data removed]"
          },
          "metadata": {}
        }
      ]
    },
    {
      "cell_type": "markdown",
      "source": [
        "### Transform to Dataloader"
      ],
      "metadata": {
        "id": "QJQp2GDnZ9jO"
      }
    },
    {
      "cell_type": "code",
      "source": [
        "# Custom Dataset class for PyTorch\n",
        "class MNISTDataset(Dataset):\n",
        "    def __init__(self, images, labels=None, transform=None):\n",
        "        self.images = torch.tensor(images, dtype=torch.float32)\n",
        "        self.labels = torch.tensor(labels, dtype=torch.long) if labels is not None else None\n",
        "        self.transform = transform\n",
        "\n",
        "    def __len__(self):\n",
        "        return len(self.images)\n",
        "\n",
        "    def __getitem__(self, idx):\n",
        "        image = self.images[idx]\n",
        "        image = image.view(1, 28, 28)  # Reshape to (1, 28, 28)\n",
        "        if self.transform:\n",
        "            image = self.transform(image)\n",
        "        if self.labels is not None:\n",
        "            return image, self.labels[idx]\n",
        "        return image\n",
        "\n",
        "random_seed = 42\n",
        "# Split data into training and validation sets\n",
        "train_data, val_data, train_label, val_label = train_test_split(X_train_reshape, Y_train_one_hot, test_size=0.1, random_state=random_seed)\n",
        "\n",
        "# Create PyTorch datasets\n",
        "train_dataset = MNISTDataset(train_data, train_label)\n",
        "val_dataset = MNISTDataset(val_data, val_label)\n",
        "\n",
        "# Data loaders\n",
        "batch_size = 64\n",
        "train_loader = DataLoader(train_dataset, batch_size=batch_size, shuffle=True)\n",
        "val_loader = DataLoader(val_dataset, batch_size=batch_size, shuffle=False)\n"
      ],
      "metadata": {
        "id": "82S58TOOZ2ys",
        "colab": {
          "base_uri": "https://localhost:8080/"
        },
        "outputId": "39f0bfb7-ac1c-4e54-f7cb-c5a95ba663e7"
      },
      "execution_count": null,
      "outputs": [
        {
          "output_type": "stream",
          "name": "stderr",
          "text": [
            "<ipython-input-74-4a2b12dbaa2f>:5: UserWarning: To copy construct from a tensor, it is recommended to use sourceTensor.clone().detach() or sourceTensor.clone().detach().requires_grad_(True), rather than torch.tensor(sourceTensor).\n",
            "  self.labels = torch.tensor(labels, dtype=torch.long) if labels is not None else None\n"
          ]
        }
      ]
    },
    {
      "cell_type": "markdown",
      "source": [
        "# Convolutional Neural Network(CNN) Model"
      ],
      "metadata": {
        "id": "hZjFwUf3VJ59"
      }
    },
    {
      "cell_type": "markdown",
      "source": [
        "### Define the Model\n"
      ],
      "metadata": {
        "id": "yHvhsgm0VN-S"
      }
    },
    {
      "cell_type": "code",
      "source": [
        "class CNNModel(nn.Module):\n",
        "    def __init__(self):\n",
        "        super(CNNModel, self).__init__()\n",
        "        # First Convolutional Block\n",
        "        self.conv1 = nn.Conv2d(1, 32, kernel_size=5, padding=2)  # Conv2D(filters=32, kernel_size=5, padding='Same')\n",
        "        self.conv2 = nn.Conv2d(32, 32, kernel_size=5, padding=2) # Second Conv2D in the first block\n",
        "        self.pool1 = nn.MaxPool2d(kernel_size=2, stride=2)       # MaxPooling\n",
        "        self.dropout1 = nn.Dropout(0.25)                        # Dropout\n",
        "\n",
        "        # Second Convolutional Block\n",
        "        self.conv3 = nn.Conv2d(32, 64, kernel_size=3, padding=1) # Conv2D(filters=64, kernel_size=3, padding='Same')\n",
        "        self.conv4 = nn.Conv2d(64, 64, kernel_size=3, padding=1) # Second Conv2D in the second block\n",
        "        self.pool2 = nn.MaxPool2d(kernel_size=2, stride=2)       # MaxPooling\n",
        "        self.dropout2 = nn.Dropout(0.25)                        # Dropout\n",
        "\n",
        "        # Fully Connected Layers\n",
        "        self.flatten = nn.Flatten()                             # Flatten\n",
        "        self.fc1 = nn.Linear(64 * 7 * 7, 256)                   # Dense(256)\n",
        "        self.dropout3 = nn.Dropout(0.5)                         # Dropout\n",
        "        self.fc2 = nn.Linear(256, 10)                           # Dense(10)\n",
        "\n",
        "    def forward(self, x):\n",
        "        # First Convolutional Block\n",
        "        x = F.relu(self.conv1(x))\n",
        "        x = F.relu(self.conv2(x))\n",
        "        x = self.pool1(x)\n",
        "        x = self.dropout1(x)\n",
        "\n",
        "        # Second Convolutional Block\n",
        "        x = F.relu(self.conv3(x))\n",
        "        x = F.relu(self.conv4(x))\n",
        "        x = self.pool2(x)\n",
        "        x = self.dropout2(x)\n",
        "\n",
        "        # Fully Connected Layers\n",
        "        x = self.flatten(x)               # Flatten the feature map\n",
        "        x = F.relu(self.fc1(x))\n",
        "        x = self.dropout3(x)\n",
        "        x = self.fc2(x)                   # Output logits (no softmax)\n",
        "        return x"
      ],
      "metadata": {
        "id": "whP4PWWkErJ0"
      },
      "execution_count": null,
      "outputs": []
    },
    {
      "cell_type": "markdown",
      "source": [
        "### Train the Model"
      ],
      "metadata": {
        "id": "QrTqGXAoaPlr"
      }
    },
    {
      "cell_type": "code",
      "source": [
        "# Instantiate the model, define the loss function and optimizer\n",
        "cnn_model = CNNModel()\n",
        "criterion = nn.BCEWithLogitsLoss()\n",
        "optimizer = optim.RMSprop(cnn_model.parameters(), lr=0.001)\n",
        "\n",
        "# Define the learning rate scheduler\n",
        "scheduler = ReduceLROnPlateau(optimizer,\n",
        "                              mode='max',       # Use 'max' for metrics like accuracy; use 'min' for loss\n",
        "                              factor=0.5,       # Reduce the learning rate by this factor (e.g., half it)\n",
        "                              patience=2,       # Number of epochs with no improvement before reducing LR\n",
        "                              verbose=True,     # Print a message when the LR is reduced\n",
        "                              min_lr=1e-5)      # Set a lower bound on the learning rate\n",
        "\n",
        "# Training function\n",
        "def train(model, train_loader, criterion, optimizer, device):\n",
        "    model.train()\n",
        "    running_loss = 0.0\n",
        "    for images, labels in train_loader:\n",
        "        images, labels = images.to(device), labels.to(device)\n",
        "\n",
        "        optimizer.zero_grad()\n",
        "        outputs = model(images)\n",
        "        loss = criterion(outputs, labels.float())\n",
        "        loss.backward()\n",
        "        optimizer.step()\n",
        "\n",
        "        running_loss += loss.item()\n",
        "    return running_loss / len(train_loader)\n"
      ],
      "metadata": {
        "id": "8iAnEZndZ2bx",
        "colab": {
          "base_uri": "https://localhost:8080/"
        },
        "outputId": "5f275fb4-3919-4ccd-dacc-a95ea439b41d"
      },
      "execution_count": null,
      "outputs": [
        {
          "output_type": "stream",
          "name": "stderr",
          "text": [
            "/usr/local/lib/python3.10/dist-packages/torch/optim/lr_scheduler.py:62: UserWarning: The verbose parameter is deprecated. Please use get_last_lr() to access the learning rate.\n",
            "  warnings.warn(\n"
          ]
        }
      ]
    },
    {
      "cell_type": "markdown",
      "source": [
        "### Validation"
      ],
      "metadata": {
        "id": "HzT6GcGkabgL"
      }
    },
    {
      "cell_type": "code",
      "source": [
        "# Validation function\n",
        "def validate(model, val_loader, criterion, device):\n",
        "    model.eval()\n",
        "    val_loss = 0.0\n",
        "    correct = 0\n",
        "    with torch.no_grad():\n",
        "        for images, labels in val_loader:\n",
        "            images, labels = images.to(device), labels.to(device)\n",
        "            outputs = model(images)\n",
        "            loss = criterion(outputs, labels.float())\n",
        "            val_loss += loss.item()\n",
        "\n",
        "            _, predicted = torch.max(outputs, 1)\n",
        "            # Convert predicted index to one-hot encoding (same size as the labels)\n",
        "            predicted_one_hot = torch.nn.functional.one_hot(predicted, num_classes=10).float()\n",
        "\n",
        "            # Compare predicted one-hot with true labels\n",
        "            correct += (predicted_one_hot == labels).all(dim=1).sum().item()\n",
        "    val_loss /= len(val_loader)\n",
        "    accuracy = 100 * correct / len(val_loader.dataset)\n",
        "    return val_loss, accuracy\n"
      ],
      "metadata": {
        "id": "awSto03mZ2Pi"
      },
      "execution_count": null,
      "outputs": []
    },
    {
      "cell_type": "markdown",
      "source": [
        "### Tune the Hyperparameters"
      ],
      "metadata": {
        "id": "-hXN6kKPagcl"
      }
    },
    {
      "cell_type": "code",
      "source": [
        "# Set device\n",
        "device = torch.device(\"cuda\" if torch.cuda.is_available() else \"cpu\")\n",
        "cnn_model.to(device)\n",
        "\n",
        "# Training loop\n",
        "num_epochs = 7\n",
        "\n",
        "train_losses = []\n",
        "val_losses = []\n",
        "val_accuracies = []\n",
        "\n",
        "for epoch in range(num_epochs):\n",
        "    train_loss = train(cnn_model, train_loader, criterion, optimizer, device)\n",
        "    val_loss, val_accuracy = validate(cnn_model, val_loader, criterion, device)\n",
        "\n",
        "    train_losses.append(train_loss)\n",
        "    val_losses.append(val_loss)\n",
        "    val_accuracies.append(val_accuracy)\n",
        "\n",
        "    print(f\"Epoch {epoch+1}/{num_epochs}, Train Loss: {train_loss:.4f}, Val Loss: {val_loss:.4f}, Val Accuracy: {val_accuracy:.2f}%\")\n",
        "\n",
        "    scheduler.step(val_accuracy)"
      ],
      "metadata": {
        "id": "JsjMhKoUCQea",
        "colab": {
          "base_uri": "https://localhost:8080/"
        },
        "outputId": "f873e760-5287-486d-e871-bdae0155fe27"
      },
      "execution_count": null,
      "outputs": [
        {
          "output_type": "stream",
          "name": "stdout",
          "text": [
            "Epoch 1/7, Train Loss: 0.1076, Val Loss: 0.0164, Val Accuracy: 97.31%\n",
            "Epoch 2/7, Train Loss: 0.0227, Val Loss: 0.0110, Val Accuracy: 98.21%\n",
            "Epoch 3/7, Train Loss: 0.0163, Val Loss: 0.0094, Val Accuracy: 98.60%\n",
            "Epoch 4/7, Train Loss: 0.0134, Val Loss: 0.0074, Val Accuracy: 98.98%\n",
            "Epoch 5/7, Train Loss: 0.0114, Val Loss: 0.0096, Val Accuracy: 98.60%\n",
            "Epoch 6/7, Train Loss: 0.0098, Val Loss: 0.0067, Val Accuracy: 98.93%\n",
            "Epoch 7/7, Train Loss: 0.0090, Val Loss: 0.0058, Val Accuracy: 99.10%\n"
          ]
        }
      ]
    },
    {
      "cell_type": "markdown",
      "source": [
        "### Training and Validation Visualization"
      ],
      "metadata": {
        "id": "o7iUtJ7kNsi_"
      }
    },
    {
      "cell_type": "code",
      "source": [
        "# Plot losses and accuracy\n",
        "plt.figure(figsize=(12, 5))\n",
        "plt.subplot(1, 2, 1)\n",
        "plt.plot(train_losses, label='Train Loss')\n",
        "plt.plot(val_losses, label='Val Loss')\n",
        "plt.legend()\n",
        "plt.title('Loss')\n",
        "\n",
        "plt.subplot(1, 2, 2)\n",
        "plt.plot(val_accuracies, label='Val Accuracy')\n",
        "plt.legend()\n",
        "plt.title('Accuracy')\n",
        "plt.show()"
      ],
      "metadata": {
        "colab": {
          "base_uri": "https://localhost:8080/",
          "height": 468
        },
        "id": "As1aJLkPNwhJ",
        "outputId": "1382a7ff-079d-4d2f-e769-7ad31c0e9b1c"
      },
      "execution_count": null,
      "outputs": [
        {
          "output_type": "display_data",
          "data": {
            "text/plain": [
              "<Figure size 1200x500 with 2 Axes>"
            ],
            "image/png": "[encoded data removed]"
          },
          "metadata": {}
        }
      ]
    },
    {
      "cell_type": "markdown",
      "source": [
        "# Confusion Matrix"
      ],
      "metadata": {
        "id": "N09bzmaDN1BU"
      }
    },
    {
      "cell_type": "code",
      "source": [
        "import torchvision.datasets as datasets\n",
        "from sklearn.metrics import classification_report\n",
        "\n",
        "mnist_testset = datasets.MNIST(root='./data', train=False, download=True, transform=None)\n",
        "\n",
        "X_test = mnist_testset.data.numpy()\n",
        "Y_test = mnist_testset.targets.numpy()\n",
        "\n",
        "# Normalize the data and reshape for PyTorch\n",
        "X_test = X_test / 255.0\n",
        "# Reshape image in 3 dimensions (height = 28px, width = 28px, channel = 1)\n",
        "X_test_reshape = X_test.reshape(-1, 28, 28, 1)\n",
        "# plt.imshow(X_test_reshape[0][:,:,0])\n",
        "\n",
        "# Encode labels to one hot vectors (ex : 2 -> [0,0,1,0,0,0,0,0,0,0])\n",
        "Y_test_tensor = torch.from_numpy(Y_test).long()\n",
        "Y_test_one_hot = torch.nn.functional.one_hot(Y_test_tensor, num_classes=10)\n",
        "# print(Y_test_one_hot[0])\n",
        "\n",
        "# Create PyTorch datasets\n",
        "test_dataset = MNISTDataset(X_test_reshape, Y_test_one_hot)\n",
        "\n",
        "# Data loaders\n",
        "test_loader = DataLoader(test_dataset, batch_size=batch_size, shuffle=False)"
      ],
      "metadata": {
        "colab": {
          "base_uri": "https://localhost:8080/"
        },
        "id": "KIJ3iJsHGSQv",
        "outputId": "08998292-77a0-43d0-b0aa-d497d19c0a75"
      },
      "execution_count": null,
      "outputs": [
        {
          "output_type": "stream",
          "name": "stderr",
          "text": [
            "<ipython-input-74-4a2b12dbaa2f>:5: UserWarning: To copy construct from a tensor, it is recommended to use sourceTensor.clone().detach() or sourceTensor.clone().detach().requires_grad_(True), rather than torch.tensor(sourceTensor).\n",
            "  self.labels = torch.tensor(labels, dtype=torch.long) if labels is not None else None\n"
          ]
        }
      ]
    },
    {
      "cell_type": "code",
      "source": [
        "def plot_confusion_matrix(cm, classes, title='Confusion Matrix', cmap=plt.cm.Blues):\n",
        "    \"\"\"\n",
        "    This function prints and plots the confusion matrix.\n",
        "    \"\"\"\n",
        "    plt.figure(figsize=(8, 6))\n",
        "    sns.heatmap(cm, annot=True, fmt=\"d\", cmap=cmap, xticklabels=classes, yticklabels=classes)\n",
        "    plt.title(title)\n",
        "    plt.ylabel('True Label')\n",
        "    plt.xlabel('Predicted Label')\n",
        "    plt.show()\n",
        "\n",
        "# Step 1: Predict the classes using the PyTorch model\n",
        "cnn_model.eval()  # Set the model to evaluation mode\n",
        "all_preds = []\n",
        "all_labels = []\n",
        "\n",
        "with torch.no_grad():\n",
        "    for images, labels in test_loader:  # Iterate through test data loader\n",
        "        images, labels = images.to(device), labels.to(device)\n",
        "        outputs = cnn_model(images)\n",
        "        _, preds = torch.max(outputs, 1)  # Get the class index with the highest score\n",
        "\n",
        "        # Convert true labels from one-hot encoding to class indices if necessary\n",
        "        if len(labels.shape) > 1:  # If labels are one-hot encoded\n",
        "            labels = torch.argmax(labels, dim=1)\n",
        "\n",
        "        all_preds.extend(preds.cpu().numpy())  # Append predictions\n",
        "        all_labels.extend(labels.cpu().numpy())  # Append true labels\n",
        "\n",
        "# Step 2: Compute the confusion matrix\n",
        "classes = list(range(10))  # Update this list for your dataset if needed\n",
        "confusion_mtx = confusion_matrix(all_labels, all_preds)\n",
        "\n",
        "# Step 3: Plot the confusion matrix\n",
        "plot_confusion_matrix(confusion_mtx, classes=classes, title=\"Confusion Matrix\")\n",
        "\n",
        "test_loss, test_accuracy = validate(cnn_model, test_loader, criterion, device)\n",
        "print(f\"Test Accuracy: {test_accuracy:.2f}%\")"
      ],
      "metadata": {
        "id": "3JN9gLwQN479",
        "colab": {
          "base_uri": "https://localhost:8080/",
          "height": 581
        },
        "outputId": "1f6dbc11-ea7b-401d-97c2-9ab8f4cedb05"
      },
      "execution_count": null,
      "outputs": [
        {
          "output_type": "display_data",
          "data": {
            "text/plain": [
              "<Figure size 800x600 with 2 Axes>"
            ],
            "image/png": "[encoded data removed]"
          },
          "metadata": {}
        },
        {
          "output_type": "stream",
          "name": "stdout",
          "text": [
            "Test Accuracy: 99.47%\n"
          ]
        }
      ]
    },
    {
      "cell_type": "code",
      "source": [
        "from sklearn.metrics import classification_report\n",
        "print(classification_report(all_labels, all_preds, target_names=[f\"{i}\" for i in classes]))"
      ],
      "metadata": {
        "colab": {
          "base_uri": "https://localhost:8080/"
        },
        "id": "bDSjnhDEhobg",
        "outputId": "29f8c834-5ca3-401f-a339-9afdaccaba94"
      },
      "execution_count": null,
      "outputs": [
        {
          "output_type": "stream",
          "name": "stdout",
          "text": [
            "              precision    recall  f1-score   support\n",
            "\n",
            "           0       0.99      1.00      1.00       980\n",
            "           1       1.00      1.00      1.00      1135\n",
            "           2       1.00      1.00      1.00      1032\n",
            "           3       0.99      1.00      0.99      1010\n",
            "           4       1.00      0.99      0.99       982\n",
            "           5       1.00      0.99      0.99       892\n",
            "           6       1.00      0.99      0.99       958\n",
            "           7       0.99      0.99      0.99      1028\n",
            "           8       0.99      1.00      0.99       974\n",
            "           9       0.99      0.99      0.99      1009\n",
            "\n",
            "    accuracy                           0.99     10000\n",
            "   macro avg       0.99      0.99      0.99     10000\n",
            "weighted avg       0.99      0.99      0.99     10000\n",
            "\n"
          ]
        }
      ]
    }
  ]
}